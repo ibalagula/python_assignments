{
 "metadata": {
  "name": "",
  "signature": "sha256:e5f871cf19215c6e7c7eb357a051d901ed119115e85d12c68f5e8a7ebae8baee"
 },
 "nbformat": 3,
 "nbformat_minor": 0,
 "worksheets": [
  {
   "cells": [
    {
     "cell_type": "code",
     "collapsed": false,
     "input": [
      "import numpy\n",
      "def get_mean(num_list):\n",
      "    num_sum =0.0\n",
      "    for element in num_list:\n",
      "        num_sum = num_sum + float(element)  \n",
      "    mean = round(num_sum/len(num_list),2)\n",
      "    return mean\n",
      "def get_median(num_list):\n",
      "    sorted_list = sorted(num_list) \n",
      "    list_length = len(sorted_list)\n",
      "    \n",
      "    if list_length%2 == 0:\n",
      "        median = round(float((sorted_list[list_length/2-1] + sorted_list[list_length/2])/2.0),2)\n",
      "    else:\n",
      "        median = sorted_list[int(list_length/2)]\n",
      "    return median\n",
      "    \n",
      "print ' ' \n",
      "print '************ Test 1 using own functions *******************'  \n",
      "my_list = [2,3,4,5,13,28]\n",
      "print 'You enetered the following numbers:'\n",
      "for element in my_list:\n",
      "    print element\n",
      "print 'Count of numbers entered = '+ str(len(my_list))\n",
      "mean=get_mean(my_list)\n",
      "print 'Mean = '+ str(mean)\n",
      "median=get_median(my_list)\n",
      "print 'Median = '+ str(median)\n",
      "\n",
      "print '************ Test 2 using own functions *******************'   \n",
      "my_list = [10,55,31,13,18,27,11]\n",
      "print 'You enetered the following numbers:'\n",
      "for element in my_list:\n",
      "    print element\n",
      "print 'Count of numbers entered = '+ str(len(my_list))\n",
      "mean=get_mean(my_list)\n",
      "print 'Mean = '+ str(mean)\n",
      "median=get_median(my_list)\n",
      "print 'Median = '+ str(median)\n",
      "\n",
      "print '************ Test 3 using numpy library*******************'   \n",
      "my_list = [10,55,31,13,18,27,11]\n",
      "print 'You enetered the following numbers:'\n",
      "for element in my_list:\n",
      "    print element\n",
      "print 'Count of numbers entered = '+ str(len(my_list))\n",
      "mean=numpy.mean(my_list)\n",
      "print 'Mean = '+ str(mean)\n",
      "median=numpy.median(my_list)\n",
      "print 'Median = '+ str(median)"
     ],
     "language": "python",
     "metadata": {},
     "outputs": [
      {
       "output_type": "stream",
       "stream": "stdout",
       "text": [
        " \n",
        "************ Test 1 using own functions *******************\n",
        "You enetered the following numbers:\n",
        "2\n",
        "3\n",
        "4\n",
        "5\n",
        "13\n",
        "28\n",
        "Count of numbers entered = 6\n",
        "Mean = 9.17\n",
        "Median = 4.5\n",
        "************ Test 2 using own functions *******************\n",
        "You enetered the following numbers:\n",
        "10\n",
        "55\n",
        "31\n",
        "13\n",
        "18\n",
        "27\n",
        "11\n",
        "Count of numbers entered = 7\n",
        "Mean = 23.57\n",
        "Median = 18\n",
        "************ Test 3 using numpy library*******************\n",
        "You enetered the following numbers:\n",
        "10\n",
        "55\n",
        "31\n",
        "13\n",
        "18\n",
        "27\n",
        "11\n",
        "Count of numbers entered = 7\n",
        "Mean = 23.5714285714\n",
        "Median = 18.0\n"
       ]
      }
     ],
     "prompt_number": 6
    },
    {
     "cell_type": "code",
     "collapsed": false,
     "input": [],
     "language": "python",
     "metadata": {},
     "outputs": [
      {
       "ename": "ImportError",
       "evalue": "No module named NumPy",
       "output_type": "pyerr",
       "traceback": [
        "\u001b[1;31m---------------------------------------------------------------------------\u001b[0m\n\u001b[1;31mImportError\u001b[0m                               Traceback (most recent call last)",
        "\u001b[1;32m<ipython-input-5-000e64f10c04>\u001b[0m in \u001b[0;36m<module>\u001b[1;34m()\u001b[0m\n\u001b[1;32m----> 1\u001b[1;33m \u001b[1;32mimport\u001b[0m \u001b[0mNumPy\u001b[0m\u001b[1;33m\u001b[0m\u001b[0m\n\u001b[0m",
        "\u001b[1;31mImportError\u001b[0m: No module named NumPy"
       ]
      }
     ],
     "prompt_number": 5
    },
    {
     "cell_type": "code",
     "collapsed": false,
     "input": [
      "\n"
     ],
     "language": "python",
     "metadata": {},
     "outputs": []
    }
   ],
   "metadata": {}
  }
 ]
}