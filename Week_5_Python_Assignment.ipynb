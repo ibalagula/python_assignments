{
 "metadata": {
  "name": "",
  "signature": "sha256:ab2f4c0001c9d75baba8b5f07201bf0285d19dbdf2f38b9833fe87e66d52b4e7"
 },
 "nbformat": 3,
 "nbformat_minor": 0,
 "worksheets": [
  {
   "cells": [
    {
     "cell_type": "code",
     "collapsed": false,
     "input": [
      "try: \n",
      "    fhand=open('C:\\Igor\\CUNY\\Programming Bridge\\Python_Practice\\u.item')\n",
      "except:\n",
      "    print 'File cannot be opened'\n",
      "    exit()\n",
      "for line in fhand:\n",
      "    line = line.rstrip() #removes white spaces from right side\n",
      "    if line.find('(1959)') == -1:\n",
      "        continue   \n",
      "    print line"
     ],
     "language": "python",
     "metadata": {},
     "outputs": [
      {
       "output_type": "stream",
       "stream": "stdout",
       "text": [
        "480|North by Northwest (1959)|01-Jan-1959||http://us.imdb.com/M/title-exact?North%20by%20Northwest%20(1959)|0|0|0|0|0|1|0|0|0|0|0|0|0|0|0|0|1|0|0\n",
        "482|Some Like It Hot (1959)|01-Jan-1959||http://us.imdb.com/M/title-exact?Some%20Like%20It%20Hot%20(1959)|0|0|0|0|0|1|1|0|0|0|0|0|0|0|0|0|0|0|0\n",
        "526|Ben-Hur (1959)|01-Jan-1959||http://us.imdb.com/M/title-exact?Ben-Hur%20(1959)|0|1|1|0|0|0|0|0|1|0|0|0|0|0|0|0|0|0|0\n",
        "843|Shaggy Dog, The (1959)|01-Jan-1959||http://us.imdb.com/M/title-exact?Shaggy%20Dog,%20The%20(1959)|0|0|0|0|1|1|0|0|0|0|0|0|0|0|0|0|0|0|0\n",
        "1512|World of Apu, The (Apur Sansar) (1959)|05-Apr-1996||http://us.imdb.com/M/title-exact?Apur%20Sansar%20(1959)|0|0|0|0|0|0|0|0|1|0|0|0|0|0|0|0|0|0|0\n"
       ]
      }
     ],
     "prompt_number": 1
    },
    {
     "cell_type": "code",
     "collapsed": false,
     "input": [],
     "language": "python",
     "metadata": {},
     "outputs": []
    }
   ],
   "metadata": {}
  }
 ]
}