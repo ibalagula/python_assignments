{
 "metadata": {
  "name": "",
  "signature": "sha256:a581bc2dddc36d53dd0bc5fd208b069d8d1f842e49450b6f43694049135eacbc"
 },
 "nbformat": 3,
 "nbformat_minor": 0,
 "worksheets": [
  {
   "cells": [
    {
     "cell_type": "code",
     "collapsed": false,
     "input": [
      "import urllib\n",
      "from bs4 import BeautifulSoup\n",
      "\n",
      "url='http://www.hrsoft.com/products/'\n",
      "html=urllib.urlopen(url).read()\n",
      "soup=BeautifulSoup(html)\n",
      "tags=soup('a')\n",
      "for tag in tags:\n",
      "    print 'URL:', tag.get('href', None)"
     ],
     "language": "python",
     "metadata": {},
     "outputs": [
      {
       "output_type": "stream",
       "stream": "stdout",
       "text": [
        "URL: mailto:info@hrsoft.com\n",
        "URL: https://www.facebook.com/HRsoftInc\n",
        "URL: https://twitter.com/HRsoft_Inc\n",
        "URL: https://www.linkedin.com/company/hrsoft-inc-?trk=top_nav_home\n",
        "URL: http://www.youtube.com/user/HRsoft123\n",
        "URL: https://recruitment.workstreaminc.com/index.htm?a=log&b=&c=464477&&MsgCtr=0\n",
        "URL: http://hrsoft.com\n",
        "URL: http://hrsoft.com/about-us/\n",
        "URL: http://hrsoft.com/products/\n",
        "URL: http://hrsoft.com/partners/\n",
        "URL: http://hrsoft.com/customers/\n",
        "URL: http://hrsoft.com/resources/\n",
        "URL: http://hrsoft.com/blog/\n",
        "URL: http://hrsoft.com/contact-us/\n",
        "URL: http://hrsoft.com\n",
        "URL: http://hrsoft.com/about-us/\n",
        "URL: http://hrsoft.com/products/\n",
        "URL: http://hrsoft.com/partners/\n",
        "URL: http://hrsoft.com/customers/\n",
        "URL: http://hrsoft.com/resources/\n",
        "URL: http://hrsoft.com/blog/\n",
        "URL: http://hrsoft.com/contact-us/\n",
        "URL: http://hrsoft.com/author/admin/\n",
        "URL: http://www.hrsoft.com/products/applicant-tracking-software/\n",
        "URL: http://www.hrsoft.com/products/employee-compensation-management-software/\n",
        "URL: http://www.hrsoft.com/products/performance-management-software/\n",
        "URL: http://www.hrsoft.com/products/total-rewards/\n",
        "URL: http://www.hrsoft.com/products/stay-interview/\n",
        "URL:  http://www.hrsoft.com/products/content-hr-the-leader-of-employee-communication/\n",
        "URL: #tab413806f0\n",
        "URL: #tab6c12090e\n",
        "URL: #tab61d70890\n",
        "URL: #tab221b04fd\n",
        "URL: #tab2d8605f2\n",
        "URL: #tab40d706f9\n",
        "URL: http://hrsoft.com/product-tour-request-form/\n",
        "URL: http://hrsoft.com/product-datasheets/\n",
        "URL: http://hrsoft.com/product-tour-request-form/\n",
        "URL: http://hrsoft.com/product-datasheets/\n",
        "URL: http://hrsoft.com/product-tour-request-form/\n",
        "URL: http://hrsoft.com/product-datasheets/\n",
        "URL: http://hrsoft.com/product-tour-request-form/\n",
        "URL: http://hrsoft.com/product-datasheets/\n",
        "URL: http://hrsoft.com/product-tour-request-form/\n",
        "URL: http://hrsoft.com/product-datasheets/\n",
        "URL: http://hrsoft.com/product-tour-request-form/\n",
        "URL: http://hrsoft.com/product-datasheets/\n",
        "URL: http://hrsoft.com/?page_id=450\n",
        "URL: http://hrsoft.com/?page_id=385\n",
        "URL: http://hrsoft.com/?page_id=27\n",
        "URL: http://hrsoft.com/?page_id=217\n",
        "URL: http://hrsoft.com/?page_id=220\n",
        "URL: http://hrsoft.com/?page_id=31\n",
        "URL: http://hrsoft.com/?page_id=33\n",
        "URL: http://www.recruitingsite.com/csbsites/hrsoft/careers.asp?lang=en   \n",
        "URL: mailto:info@hrsoft.com\n",
        "URL: https://www.facebook.com/HRsoftInc\n",
        "URL: https://twitter.com/HRsoft_Inc\n",
        "URL: #\n",
        "URL: https://www.linkedin.com/company/hrsoft-inc-?trk=top_nav_home\n",
        "URL: https://www.youtube.com/user/HRsoft123\n",
        "URL: https://recruitment.workstreaminc.com/index.htm?a=log&b=&c=464477&&MsgCtr=0\n"
       ]
      }
     ],
     "prompt_number": 1
    },
    {
     "cell_type": "code",
     "collapsed": false,
     "input": [],
     "language": "python",
     "metadata": {},
     "outputs": []
    }
   ],
   "metadata": {}
  }
 ]
}