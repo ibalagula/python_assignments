{
 "metadata": {
  "name": "",
  "signature": "sha256:9c2ca8deeefe4cd1912e40889f62cd352b3899dae910daf2439b676009e17a46"
 },
 "nbformat": 3,
 "nbformat_minor": 0,
 "worksheets": [
  {
   "cells": [
    {
     "cell_type": "code",
     "collapsed": false,
     "input": [
      "#Week 6 Python assignment\n",
      "import re\n",
      "try:\n",
      "    fhand=open(\"C:\\\\Igor\\\\CUNY\\\\Programming Bridge\\\\Python_Practice\\\\test_re.txt\")\n",
      "except:\n",
      "    print 'File cannot be opened:'\n",
      "    exit()\n",
      "\n",
      "for line in fhand:\n",
      "    match = re.search('([0-9]) ([a-zA-Z ]+) (.+)',line)\n",
      "    if match.group(1) == '1':\n",
      "        print 'Rank: ',match.group(1)\n",
      "        print 'Country: ',match.group(2)\n",
      "        print 'Results: '\n",
      "        results = match.group(3).split('|')\n",
      "        for result in results:\n",
      "            print result"
     ],
     "language": "python",
     "metadata": {},
     "outputs": [
      {
       "output_type": "stream",
       "stream": "stdout",
       "text": [
        "Rank:  1\n",
        "Country:  Germany \n",
        "Results: \n",
        "\n",
        " W 3 \n",
        " T 4 \n",
        " W 2\n"
       ]
      }
     ],
     "prompt_number": 3
    },
    {
     "cell_type": "code",
     "collapsed": false,
     "input": [],
     "language": "python",
     "metadata": {},
     "outputs": []
    }
   ],
   "metadata": {}
  }
 ]
}