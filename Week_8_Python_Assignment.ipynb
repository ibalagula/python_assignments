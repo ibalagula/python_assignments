{
 "metadata": {
  "name": "",
  "signature": "sha256:a5015c949f294ddc4446dc4e32345d4b8b53faf7c3bc45906ecc02d58f267838"
 },
 "nbformat": 3,
 "nbformat_minor": 0,
 "worksheets": [
  {
   "cells": [
    {
     "cell_type": "code",
     "collapsed": false,
     "input": [
      "import sqlite3\n",
      "conn=sqlite3.connect(\"c:\\\\sqlite\\\\customers.sqlite\")\n",
      "cur=conn.cursor()\n",
      "cur.execute('select c.first_name, c.last_name, ca.address_type, ca.street_1, ca.street_2, ca.city, ca.state, ca.zip_code from customer c, cust_address ca where c.cust_id = ca.cust_id')\n",
      "for row in cur:\n",
      "    print row\n",
      "conn.close()"
     ],
     "language": "python",
     "metadata": {},
     "outputs": [
      {
       "output_type": "stream",
       "stream": "stdout",
       "text": [
        "(u'John', u'Doe', u'H', u'1 Main St', u'Apt 2', u'Gilmore', u'CA', u'95124')\n",
        "(u'John', u'Doe', u'W', u'5 Hill St', None, u'Gilmore', u'CA', u'95124')\n",
        "(u'Mary', u'Johnes', u'H', u'22 Brown St', None, u'Edgemont', u'NY', u'10577')\n",
        "(u'Mary', u'Johnes', u'W', u'33 5th Ave', None, u'New York', u'NY', u'10001')\n",
        "(u'Jim', u'Hobart', u'H', u'76 Town Rd', None, u'Stamford', u'CT', u'10056')\n",
        "(u'Jim', u'Hobart', u'W', u'22 Main St', None, u'Stamford', u'CT', u'10056')\n"
       ]
      }
     ],
     "prompt_number": 2
    },
    {
     "cell_type": "code",
     "collapsed": false,
     "input": [],
     "language": "python",
     "metadata": {},
     "outputs": []
    }
   ],
   "metadata": {}
  }
 ]
}